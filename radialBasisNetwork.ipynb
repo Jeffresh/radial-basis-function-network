{
 "cells": [
  {
   "cell_type": "markdown",
   "metadata": {},
   "source": [
    "# Radial basis network"
   ]
  },
  {
   "cell_type": "markdown",
   "metadata": {},
   "source": [
    "## 1. Dataset\n",
    "\n",
    "Se utilizará un conjunto de datos generados artificialmente siguiendo la siguiente función subyacente:\n",
    "\n",
    "$f(x) = x * 5 *\\pi$\n",
    "\n",
    "Para alejarnos un poco del entorno artificial, le agregaremos ruido en base a su dispersión de un 30%.\n",
    "Se han generado $10000$ datos y se ha escogido aleatoriamente una muestra de $100$ datos."
   ]
  },
  {
   "cell_type": "code",
   "execution_count": 1,
   "metadata": {},
   "outputs": [
    {
     "data": {
      "image/png": "[encoded data removed]",
      "text/plain": [
       "<IPython.core.display.Image object>"
      ]
     },
     "metadata": {},
     "output_type": "display_data"
    }
   ],
   "source": [
    "clear all\n",
    "pkg load statistics\n",
    "\n",
    "% Número de ejempjos\n",
    "n_data= 10000;\n",
    "\n",
    "% Generación de datos\n",
    "X_real = rand(1,n_data) * (5*pi);                    \n",
    "y_real  = sinc(X_real);\n",
    "\n",
    "% Generación de ruido\n",
    "noise     = 0.3 * std(y_real) ;\n",
    "y_noise = noise * rand(1, n_data);\n",
    "\n",
    "%Agregación del ruido\n",
    "y_noise = y_real + y_noise;\n",
    "\n",
    "% Muestra\n",
    "n_sample = n_data * 0.01;\n",
    "all_ind = randperm(n_data);\n",
    "ind_sample = all_ind(1:n_sample);\n",
    "\n",
    "X =X_real(ind_sample)';\n",
    "y = y_noise(ind_sample)';\n",
    "\n",
    "\n",
    "\n",
    "plot(X_real, y_real, '.k'), hold on \n",
    "plot(X, y,'xr'), hold off\n",
    "title(\"Data\")\n",
    "legend(\"Artificial data\", \"Sample\")\n",
    "axis([min(X_real) max(X_real) -0.5 1])"
   ]
  },
  {
   "cell_type": "markdown",
   "metadata": {},
   "source": [
    "## 2.Implementación de la Red de Base radial"
   ]
  },
  {
   "cell_type": "code",
   "execution_count": 2,
   "metadata": {},
   "outputs": [],
   "source": [
    "function phi = computePhi(X, centers, width)\n",
    "    if size(width, 2) == 1\n",
    "        variances = width * ones(1, size(centers, 2));\n",
    "    else\n",
    "        variances = width;\n",
    "    end\n",
    "    \n",
    "    phi(size(X , 1), size(centers, 2)) = 0;\n",
    "    \n",
    "    for i=1:size(centers, 2),\n",
    "        phi(:, i) = normpdf(X, centers(:, i), variances(i));\n",
    "    end\n",
    "end"
   ]
  },
  {
   "cell_type": "code",
   "execution_count": 3,
   "metadata": {},
   "outputs": [],
   "source": [
    "function W = train(X, y, centers, widths)\n",
    "    phi = computePhi(X, centers, widths);\n",
    "    W = pinv(phi) * y;\n",
    "end"
   ]
  },
  {
   "cell_type": "code",
   "execution_count": 4,
   "metadata": {},
   "outputs": [],
   "source": [
    "function y = predict(X, centers, widths, W)\n",
    "    phi = computePhi(X, centers, widths);\n",
    "    y = (phi * W)';\n",
    "end"
   ]
  },
  {
   "cell_type": "markdown",
   "metadata": {},
   "source": [
    "## 3. Partición de datos"
   ]
  },
  {
   "cell_type": "code",
   "execution_count": 5,
   "metadata": {},
   "outputs": [],
   "source": [
    "n_examples = size(X,1);\n",
    "n_train_examples = n_examples * 0.6;\n",
    "n_test_examples = n_examples - n_train_examples;\n",
    "\n",
    "ind = randperm(n_examples);\n",
    "ind_train = ind(1:n_train_examples);\n",
    "ind_test = ind(n_train_examples+1:end);"
   ]
  },
  {
   "cell_type": "code",
   "execution_count": 6,
   "metadata": {},
   "outputs": [],
   "source": [
    "X_train = X(ind_train,:);\n",
    "y_train = y(ind_train,:);\n",
    "X_test = X(ind_test,:);\n",
    "y_test = y(ind_test,:);"
   ]
  },
  {
   "cell_type": "markdown",
   "metadata": {},
   "source": [
    "## 4. Entrenamiento de la red"
   ]
  },
  {
   "cell_type": "code",
   "execution_count": 7,
   "metadata": {},
   "outputs": [
    {
     "name": "stdout",
     "output_type": "stream",
     "text": [
      "n_centers =  10\n",
      "width =  3.4395\n"
     ]
    }
   ],
   "source": [
    "n_centers = 10\n",
    "centers = linspace(min(X) ,max(X), 10);\n",
    "n_hidden_layers = 10;\n",
    "\n",
    "width = (max(centers) - min(centers)) / (sqrt(2*n_hidden_layers))\n",
    "W = train(X_train, y_train, centers, width);"
   ]
  },
  {
   "cell_type": "markdown",
   "metadata": {},
   "source": [
    "## 5. Evaluación de la red."
   ]
  },
  {
   "cell_type": "code",
   "execution_count": 25,
   "metadata": {},
   "outputs": [
    {
     "data": {
      "image/png": "[encoded data removed]",
      "text/plain": [
       "<IPython.core.display.Image object>"
      ]
     },
     "metadata": {},
     "output_type": "display_data"
    }
   ],
   "source": [
    "y_predict = predict(X_test, centers, width, W);\n",
    "\n",
    "[x, i] = sort(X_test);\n",
    "\n",
    "plot(x, y_test(i), 'r'),hold on;\n",
    "plot(x, y_predict(i), 'b'), hold off;\n",
    "title(\"Predictions over test data\")\n",
    "legend(\"Test data\", \"Predicted data\")"
   ]
  }
 ],
 "metadata": {
  "kernelspec": {
   "display_name": "Octave",
   "language": "octave",
   "name": "octave"
  },
  "language_info": {
   "file_extension": ".m",
   "help_links": [
    {
     "text": "GNU Octave",
     "url": "https://www.gnu.org/software/octave/support.html"
    },
    {
     "text": "Octave Kernel",
     "url": "https://github.com/Calysto/octave_kernel"
    },
    {
     "text": "MetaKernel Magics",
     "url": "https://metakernel.readthedocs.io/en/latest/source/README.html"
    }
   ],
   "mimetype": "text/x-octave",
   "name": "octave",
   "version": "5.2.0"
  }
 },
 "nbformat": 4,
 "nbformat_minor": 4
}
